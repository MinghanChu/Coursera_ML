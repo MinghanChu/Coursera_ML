{
  "nbformat": 4,
  "nbformat_minor": 0,
  "metadata": {
    "colab": {
      "provenance": [],
      "mount_file_id": "1DP8AEAWwwcouq-vaqEFlvXkvLjRPS4ol",
      "authorship_tag": "ABX9TyPDMphy77R5h04xTQ7yl9RP",
      "include_colab_link": true
    },
    "kernelspec": {
      "name": "python3",
      "display_name": "Python 3"
    },
    "language_info": {
      "name": "python"
    }
  },
  "cells": [
    {
      "cell_type": "markdown",
      "metadata": {
        "id": "view-in-github",
        "colab_type": "text"
      },
      "source": [
        "<a href=\"https://colab.research.google.com/github/Renshui-MC/Coursera_ML/blob/main/SupervisedML_RegressionAndClassification/week2/C1_W2_Lab01_Python_Numpy_Vectorization_Soln.ipynb\" target=\"_parent\"><img src=\"https://colab.research.google.com/assets/colab-badge.svg\" alt=\"Open In Colab\"/></a>"
      ]
    },
    {
      "cell_type": "code",
      "execution_count": 1,
      "metadata": {
        "colab": {
          "base_uri": "https://localhost:8080/"
        },
        "id": "ULz2tOzfO-WH",
        "outputId": "402eefc3-0e09-493e-dcc2-a78dd59ca5f6"
      },
      "outputs": [
        {
          "output_type": "stream",
          "name": "stdout",
          "text": [
            "Drive already mounted at /content/drive; to attempt to forcibly remount, call drive.mount(\"/content/drive\", force_remount=True).\n"
          ]
        }
      ],
      "source": [
        "from google.colab import drive \n",
        "drive.mount('/content/drive')"
      ]
    },
    {
      "cell_type": "code",
      "source": [
        "%cd /content/drive/MyDrive/PostDoc/Colab Notebooks/Coursera/Coursera_ML/SupervisedML_RegressionAndClassification/week2"
      ],
      "metadata": {
        "colab": {
          "base_uri": "https://localhost:8080/"
        },
        "id": "wOFJuQu7Peay",
        "outputId": "75a7ecc5-4fec-45fd-c74c-901c83b0bea4"
      },
      "execution_count": 2,
      "outputs": [
        {
          "output_type": "stream",
          "name": "stdout",
          "text": [
            "/content/drive/MyDrive/PostDoc/Colab Notebooks/Coursera/Coursera_ML/SupervisedML_RegressionAndClassification/week2\n"
          ]
        }
      ]
    }
  ]
}